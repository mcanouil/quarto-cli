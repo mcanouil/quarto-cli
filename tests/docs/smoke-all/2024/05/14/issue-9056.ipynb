{
 "cells": [
  {
   "cell_type": "raw",
   "metadata": {},
   "source": [
    "--- \n",
    "title: \"Development Indicators by Continent\"\n",
    "author: \"Gapminder Analytics Group\"\n",
    "format: dashboard\n",
    "execute: \n",
    "  enabled: true\n",
    "_quarto:\n",
    "  tests:\n",
    "    dashboard:\n",
    "      ensureHtmlElements:\n",
    "        - []\n",
    "        - [\".card-body.flow\"] # these are empty divs that shouldn't appear\n",
    "--- "
   ]
  },
  {
   "cell_type": "code",
   "execution_count": 1,
   "metadata": {},
   "outputs": [],
   "source": [
    "# import plotly.express as px\n",
    "# df = px.data.gapminder()\n",
    "foo = 1"
   ]
  },
  {
   "cell_type": "markdown",
   "metadata": {},
   "source": [
    "## Row {height=60%}"
   ]
  },
  {
   "cell_type": "code",
   "execution_count": 2,
   "metadata": {
    "title": "GDP and Life Expectancy"
   },
   "outputs": [
    {
     "data": {
      "text/plain": [
       "1"
      ]
     },
     "execution_count": 2,
     "metadata": {},
     "output_type": "execute_result"
    }
   ],
   "source": [
    "#px.scatter(  \n",
    "#  df, x=\"gdpPercap\", y=\"lifeExp\", \n",
    "#  animation_frame=\"year\", animation_group=\"country\", \n",
    "#  size=\"pop\", color=\"continent\", hover_name=\"country\",\n",
    "#  facet_col=\"continent\", log_x=True, size_max=45, \n",
    "#  range_x=[100,100000], range_y=[25,90] \n",
    "#)  \n",
    "foo"
   ]
  },
  {
   "cell_type": "markdown",
   "metadata": {},
   "source": [
    "## Row {height=40%}"
   ]
  },
  {
   "cell_type": "code",
   "execution_count": 3,
   "metadata": {
    "title": "Population"
   },
   "outputs": [
    {
     "data": {
      "text/plain": [
       "2"
      ]
     },
     "execution_count": 3,
     "metadata": {},
     "output_type": "execute_result"
    }
   ],
   "source": [
    "#px.area(\n",
    "#  df, x=\"year\", y=\"pop\", \n",
    "#  color=\"continent\", line_group=\"country\"\n",
    "#)\n",
    "foo + 1"
   ]
  },
  {
   "cell_type": "code",
   "execution_count": 4,
   "metadata": {
    "title": "Life Expectancy"
   },
   "outputs": [
    {
     "data": {
      "text/plain": [
       "3"
      ]
     },
     "execution_count": 4,
     "metadata": {},
     "output_type": "execute_result"
    }
   ],
   "source": [
    "#px.line(\n",
    "#  df, x=\"year\", y=\"lifeExp\", \n",
    "#  color=\"continent\", line_group=\"country\"\n",
    "#)\n",
    "foo + 2"
   ]
  }
 ],
 "metadata": {
  "kernelspec": {
   "display_name": "Python 3 (ipykernel)",
   "language": "python",
   "name": "python3"
  },
  "language_info": {
   "codemirror_mode": {
    "name": "ipython",
    "version": 3
   },
   "file_extension": ".py",
   "mimetype": "text/x-python",
   "name": "python",
   "nbconvert_exporter": "python",
   "pygments_lexer": "ipython3",
   "version": "3.10.13"
  }
 },
 "nbformat": 4,
 "nbformat_minor": 4
}
